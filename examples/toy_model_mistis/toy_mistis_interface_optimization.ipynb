{
 "cells": [
  {
   "cell_type": "markdown",
   "metadata": {
    "collapsed": true
   },
   "source": [
    "# Interface Optimization example.\n",
    "\n",
    "To run interface optimization user needs to provide results from the OPS simulation. \n",
    "In particular this example is working with the file \"toy_mistis_1k_OPS1.nc\", which can be obtained by the command:\n",
    "\n",
    "curl -OLk http://www.dropbox.com/s/qaeczkugwxkrdfy/toy_mistis_1k_OPS1.nc\n",
    "\n",
    "Check the destination to the file in `test_file` "
   ]
  },
  {
   "cell_type": "code",
   "execution_count": 1,
   "metadata": {
    "collapsed": false
   },
   "outputs": [],
   "source": [
    "# if our output file is available, use it here\n",
    "import os\n",
    "test_file = \"toy_mistis_1k_OPS1.nc\"\n",
    "filename = test_file if os.path.isfile(test_file) else \"mistis.nc\""
   ]
  },
  {
   "cell_type": "code",
   "execution_count": 2,
   "metadata": {
    "collapsed": true
   },
   "outputs": [],
   "source": [
    "%matplotlib inline\n",
    "import matplotlib.pyplot as plt\n",
    "import numpy as np\n",
    "import openpathsampling as paths"
   ]
  },
  {
   "cell_type": "markdown",
   "metadata": {},
   "source": [
    "At first point we need to use standart analysis procedure to generate input data, for interface optimization."
   ]
  },
  {
   "cell_type": "code",
   "execution_count": 3,
   "metadata": {
    "collapsed": false
   },
   "outputs": [],
   "source": [
    "storage = paths.AnalysisStorage(filename)"
   ]
  },
  {
   "cell_type": "code",
   "execution_count": 4,
   "metadata": {
    "collapsed": false
   },
   "outputs": [],
   "source": [
    "mistis = storage.networks.load(0)"
   ]
  },
  {
   "cell_type": "code",
   "execution_count": 5,
   "metadata": {
    "collapsed": true
   },
   "outputs": [],
   "source": [
    "mistis.hist_args['max_lambda'] = { 'bin_width' : 0.02, 'bin_range' : (-0.3, 0.5) }\n",
    "mistis.hist_args['pathlength'] = { 'bin_width' : 5, 'bin_range' : (0, 150) }"
   ]
  },
  {
   "cell_type": "code",
   "execution_count": 6,
   "metadata": {
    "collapsed": true
   },
   "outputs": [],
   "source": [
    "# we need to load the states and the innermost interface for each transition\n",
    "stateA = storage.volumes['A']\n",
    "stateB = storage.volumes['B']\n",
    "stateC = storage.volumes['C']\n",
    "inner_AB = mistis.transitions[(stateA, stateB)].interfaces[0]\n",
    "inner_AC = mistis.transitions[(stateA, stateC)].interfaces[0]\n",
    "inner_BA = mistis.transitions[(stateB, stateA)].interfaces[0]"
   ]
  },
  {
   "cell_type": "code",
   "execution_count": 7,
   "metadata": {
    "collapsed": false
   },
   "outputs": [],
   "source": [
    "# got these from mistis_flux.ipynb\n",
    "fluxes = {(stateA, inner_AB): 0.00134206626387,\n",
    "          (stateA, inner_AC): 0.00130918783318,\n",
    "          (stateB, inner_BA): 0.00129306050463}\n",
    "mistis.set_fluxes(fluxes)"
   ]
  },
  {
   "cell_type": "code",
   "execution_count": 8,
   "metadata": {
    "collapsed": false
   },
   "outputs": [
    {
     "data": {
      "text/html": [
       "<div>\n",
       "<table border=\"1\" class=\"dataframe\">\n",
       "  <thead>\n",
       "    <tr style=\"text-align: right;\">\n",
       "      <th></th>\n",
       "      <th>({x|opX(x) in [0.3, inf]} and {x|opY(x) in [-inf, -0.3]})</th>\n",
       "      <th>({x|opX(x) in [-inf, -0.3]} and {x|opY(x) in [0.3, inf]})</th>\n",
       "      <th>({x|opX(x) in [-inf, -0.3]} and {x|opY(x) in [-inf, -0.3]})</th>\n",
       "    </tr>\n",
       "  </thead>\n",
       "  <tbody>\n",
       "    <tr>\n",
       "      <th>({x|opX(x) in [0.3, inf]} and {x|opY(x) in [-inf, -0.3]})</th>\n",
       "      <td>NaN</td>\n",
       "      <td>NaN</td>\n",
       "      <td>2.02612e-05</td>\n",
       "    </tr>\n",
       "    <tr>\n",
       "      <th>({x|opX(x) in [-inf, -0.3]} and {x|opY(x) in [-inf, -0.3]})</th>\n",
       "      <td>9.39647e-05</td>\n",
       "      <td>1.12217e-05</td>\n",
       "      <td>NaN</td>\n",
       "    </tr>\n",
       "  </tbody>\n",
       "</table>\n",
       "</div>"
      ],
      "text/plain": [
       "                                                   ({x|opX(x) in [0.3, inf]} and {x|opY(x) in [-inf, -0.3]})  \\\n",
       "({x|opX(x) in [0.3, inf]} and {x|opY(x) in [-in...                                                NaN          \n",
       "({x|opX(x) in [-inf, -0.3]} and {x|opY(x) in [-...                                        9.39647e-05          \n",
       "\n",
       "                                                   ({x|opX(x) in [-inf, -0.3]} and {x|opY(x) in [0.3, inf]})  \\\n",
       "({x|opX(x) in [0.3, inf]} and {x|opY(x) in [-in...                                                NaN          \n",
       "({x|opX(x) in [-inf, -0.3]} and {x|opY(x) in [-...                                        1.12217e-05          \n",
       "\n",
       "                                                   ({x|opX(x) in [-inf, -0.3]} and {x|opY(x) in [-inf, -0.3]})  \n",
       "({x|opX(x) in [0.3, inf]} and {x|opY(x) in [-in...                                        2.02612e-05           \n",
       "({x|opX(x) in [-inf, -0.3]} and {x|opY(x) in [-...                                                NaN           "
      ]
     },
     "execution_count": 8,
     "metadata": {},
     "output_type": "execute_result"
    }
   ],
   "source": [
    "# do the analysis\n",
    "mistis.rate_matrix(storage.steps, force=True)"
   ]
  },
  {
   "cell_type": "code",
   "execution_count": 9,
   "metadata": {
    "collapsed": false
   },
   "outputs": [
    {
     "data": {
      "text/plain": [
       "[<matplotlib.lines.Line2D at 0x7f7c899300d0>]"
      ]
     },
     "execution_count": 9,
     "metadata": {},
     "output_type": "execute_result"
    },
    {
     "data": {
      "image/png": "[encoded data removed]",
      "text/plain": [
       "<matplotlib.figure.Figure at 0x7f7c89be6250>"
      ]
     },
     "metadata": {},
     "output_type": "display_data"
    }
   ],
   "source": [
    "# visual representation of the probabilities for one of the transitions: \n",
    "trans = mistis.transitions.values()[0]\n",
    "trans_hists = trans.histograms['max_lambda']\n",
    "for hist in trans_hists:\n",
    "    cross_prob = trans_hists[hist].reverse_cumulative()\n",
    "    plt.plot(cross_prob.x, np.log(cross_prob))\n",
    "plt.plot(trans.tcp.x, np.log(trans.tcp), '-k')"
   ]
  },
  {
   "cell_type": "markdown",
   "metadata": {
    "collapsed": true
   },
   "source": [
    "# TEST for the interfaces"
   ]
  },
  {
   "cell_type": "code",
   "execution_count": 10,
   "metadata": {
    "collapsed": false
   },
   "outputs": [],
   "source": [
    "# import openpathsampling.analysis.interface_optimization as io \n",
    "from paths.analysis.interface_optimization import (find_interface_and_cross,\n",
    "                                                   save_n_interfaces,\n",
    "                                                   save_p_interfaces,\n",
    "                                                   _mapping_f)"
   ]
  },
  {
   "cell_type": "markdown",
   "metadata": {},
   "source": [
    "## transition A > C"
   ]
  },
  {
   "cell_type": "code",
   "execution_count": 11,
   "metadata": {
    "collapsed": false
   },
   "outputs": [],
   "source": [
    "transitionAC = mistis.transitions[(stateA, stateC)]\n",
    "# get the input data for interface-optimization analysis from transition object:\n",
    "old_interfaces, old_probabilities = find_interface_and_cross(transitionAC)\n",
    "# Note! if the user already has the lists containing interfaces and crossing probabilities, \n",
    "# previous step with `find_interface_and_cross` can be skipped."
   ]
  },
  {
   "cell_type": "code",
   "execution_count": 12,
   "metadata": {
    "collapsed": false,
    "scrolled": true
   },
   "outputs": [
    {
     "name": "stdout",
     "output_type": "stream",
     "text": [
      "old set: [-0.30000000000000004, -0.2, -0.1, 0.0]\n",
      "`save_n_interfaces` usage:\n",
      "set 1: [-0.3, -0.2317, -0.1311, 0.0]\n",
      "set 1* [-0.3, -0.23, -0.13, 0.0]\n",
      "set 2: [-0.3, -0.259, -0.218, -0.1568, -0.07911, 0.0]\n",
      "`save_p_interfaces` usage:\n",
      "set 3: [-0.3, -0.259, -0.218, -0.1568, -0.07911, 0.0]\n",
      "set 4: [-0.3, -0.2772, -0.2545, -0.2317, -0.2089, -0.174, -0.1311, -0.0879, -0.04395, 0.0]\n",
      "set 5: [-0.3, -0.1954, 0.0]\n"
     ]
    }
   ],
   "source": [
    "print 'old set:', old_interfaces\n",
    "print '`save_n_interfaces` usage:'\n",
    "# Use `save_n_interfaces` to keep the number of interfaces the same, as in the simulation:\n",
    "set_1 = save_n_interfaces(old_interfaces, old_probabilities)\n",
    "print 'set 1:', set_1\n",
    "\n",
    "# see here how to change the `formatting` of the output, using standart python commands;\n",
    "# default value in both `save_n_interfaces` and `save_p_interfaces` functions is '.4g'\n",
    "set_1_star = save_n_interfaces(old_interfaces, old_probabilities, formatting='.2f')\n",
    "print 'set 1*', set_1_star\n",
    "\n",
    "# `save_n_interfaces` can generate a fixed number of interfaces, if needed:\n",
    "N = 6\n",
    "set_2 = save_n_interfaces(old_interfaces, old_probabilities, fixed_n=N)\n",
    "print 'set 2:', set_2\n",
    "\n",
    "print '`save_p_interfaces` usage:'\n",
    "# If the goal to approach crossing probability in each ensemble \n",
    "# to be equal to some fixed value, use `save_p_interfaces`:\n",
    "set_3 = save_p_interfaces(old_interfaces, old_probabilities)\n",
    "print 'set 3:', set_3\n",
    "# Note! For this particular simulation we'll see that set_3 contains 6 interfaces, like set_2: \n",
    "# these two sets should be the same, since mapping function in the algorithm is the same for any case\n",
    "\n",
    "# Lets increase an expected value for the crossing probability (the default is 0.4): \n",
    "p = 0.6  \n",
    "set_4 = save_p_interfaces(old_interfaces, old_probabilities, p)\n",
    "print 'set 4:', set_4\n",
    "\n",
    "# for low crossing probability, like 10% (but the accuracy of the method in general will suffer from that)\n",
    "# we can get shorted set of the interfaces\n",
    "set_5 = save_p_interfaces(old_interfaces, old_probabilities, fixed_p=0.1)\n",
    "print 'set 5:', set_5\n"
   ]
  },
  {
   "cell_type": "markdown",
   "metadata": {},
   "source": [
    "Now its up to the user to decide either restart simulation with new interfaces, or keep the old ones."
   ]
  },
  {
   "cell_type": "code",
   "execution_count": 29,
   "metadata": {
    "collapsed": false
   },
   "outputs": [
    {
     "data": {
      "image/png": "[encoded data removed]",
      "text/plain": [
       "<matplotlib.figure.Figure at 0x7f7c8895c490>"
      ]
     },
     "metadata": {},
     "output_type": "display_data"
    }
   ],
   "source": [
    "# here we plot the mapping function for this simulation output\n",
    "# lets consider a case with 4 interfaces in the output\n",
    "func = _mapping_f(old_interfaces, old_probabilities)\n",
    "# 4 output interfaces are at `int4`\n",
    "prob4 = [0, 0.33, 0.67, 1.0]\n",
    "int4 = [func(prob) for prob in prob4]\n",
    "\n",
    "# plot all mapping function\n",
    "bins = 50\n",
    "y = [float(i)/bins for i in range(bins)]\n",
    "x = [func(prob) for prob in y]\n",
    "\n",
    "plt.plot(x, y, '-')\n",
    "plt.plot(int4, prob4, 'ro')\n",
    "plt.show()"
   ]
  },
  {
   "cell_type": "markdown",
   "metadata": {
    "collapsed": true
   },
   "source": [
    "## remaining transitions AB and BA:"
   ]
  },
  {
   "cell_type": "code",
   "execution_count": 30,
   "metadata": {
    "collapsed": true
   },
   "outputs": [],
   "source": [
    "transitionAB = mistis.transitions[(stateA, stateB)]\n",
    "transitionBA = mistis.transitions[(stateB, stateA)]"
   ]
  },
  {
   "cell_type": "code",
   "execution_count": 31,
   "metadata": {
    "collapsed": false
   },
   "outputs": [
    {
     "name": "stdout",
     "output_type": "stream",
     "text": [
      "1) old set: \n",
      "[-0.30000000000000004, -0.2, -0.1]\n",
      "2) fixed N: \n",
      "[-0.3, -0.173, -0.1]\n",
      "3) fixed p=0.4: \n",
      "[-0.3, -0.1973, -0.1487, -0.1]\n",
      "\n"
     ]
    }
   ],
   "source": [
    "old_int_AB, old_prob_AB = find_interface_and_cross(transitionAB)\n",
    "\n",
    "save_n = save_n_interfaces(old_int_AB, old_prob_AB)\n",
    "save_p = save_p_interfaces(old_int_AB, old_prob_AB)\n",
    "print '1) old set: \\n{}\\n' \\\n",
    "      '2) fixed N: \\n{}\\n' \\\n",
    "      '3) fixed p=0.4: \\n{}\\n'.format(old_int_AB, save_n, save_p)"
   ]
  },
  {
   "cell_type": "code",
   "execution_count": 33,
   "metadata": {
    "collapsed": false
   },
   "outputs": [],
   "source": [
    "old_int_BA, old_prob_BA = find_interface_and_cross(transitionBA)"
   ]
  },
  {
   "cell_type": "code",
   "execution_count": 34,
   "metadata": {
    "collapsed": false
   },
   "outputs": [
    {
     "name": "stdout",
     "output_type": "stream",
     "text": [
      "1) old set: \n",
      "[-0.30000000000000004, -0.2, -0.1]\n",
      "2) fixed N: \n",
      "[-0.3, -0.183, -0.1]\n",
      "3) fixed p=0.4: \n",
      "[-0.3, -0.2497, -0.1996, -0.1664, -0.1332, -0.1]\n",
      "\n"
     ]
    }
   ],
   "source": [
    "old_int_BA, old_prob_BA = find_interface_and_cross(transitionBA)\n",
    "\n",
    "save_n = save_n_interfaces(old_int_BA, old_prob_BA)\n",
    "save_p = save_p_interfaces(old_int_BA, old_prob_BA)\n",
    "print '1) old set: \\n{}\\n' \\\n",
    "      '2) fixed N: \\n{}\\n' \\\n",
    "      '3) fixed p=0.4: \\n{}\\n'.format(old_int_AB, save_n, save_p)"
   ]
  },
  {
   "cell_type": "code",
   "execution_count": null,
   "metadata": {
    "collapsed": true
   },
   "outputs": [],
   "source": []
  }
 ],
 "metadata": {
  "anaconda-cloud": {},
  "kernelspec": {
   "display_name": "Python [default]",
   "language": "python",
   "name": "python2"
  },
  "language_info": {
   "codemirror_mode": {
    "name": "ipython",
    "version": 2
   },
   "file_extension": ".py",
   "mimetype": "text/x-python",
   "name": "python",
   "nbconvert_exporter": "python",
   "pygments_lexer": "ipython2",
   "version": "2.7.12"
  }
 },
 "nbformat": 4,
 "nbformat_minor": 0
}
